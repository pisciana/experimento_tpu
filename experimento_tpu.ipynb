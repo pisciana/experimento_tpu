{
 "cells": [
  {
   "cell_type": "markdown",
   "metadata": {},
   "source": [
    "# Deve ser executado com o acelerador TPU\n",
    "Edit-> Notebook Settings -> selecionar TPU"
   ]
  },
  {
   "cell_type": "code",
   "execution_count": 0,
   "metadata": {
    "colab": {},
    "colab_type": "code",
    "id": "YmB-8sexmIK0"
   },
   "outputs": [],
   "source": [
    "import tensorflow as tf\n",
    "import numpy as np\n",
    "from copy import deepcopy\n"
   ]
  },
  {
   "cell_type": "markdown",
   "metadata": {},
   "source": [
    "Necessário para a importacao do model"
   ]
  },
  {
   "cell_type": "code",
   "execution_count": 6,
   "metadata": {
    "colab": {
     "base_uri": "https://localhost:8080/",
     "height": 299
    },
    "colab_type": "code",
    "executionInfo": {
     "elapsed": 1086,
     "status": "error",
     "timestamp": 1549476707260,
     "user": {
      "displayName": "ana claudia",
      "photoUrl": "https://lh6.googleusercontent.com/-u8DaEbRmVlw/AAAAAAAAAAI/AAAAAAAACJw/7ijFkdrV2yk/s64/photo.jpg",
      "userId": "15383402369695337861"
     },
     "user_tz": 180
    },
    "id": "3rc_Q4ycrswF",
    "outputId": "1fba81f7-945d-494e-a3a1-5b134787f391"
   },
   "outputs": [
    {
     "ename": "ValueError",
     "evalue": "ignored",
     "output_type": "error",
     "traceback": [
      "\u001b[0;31m---------------------------------------------------------------------------\u001b[0m",
      "\u001b[0;31mValueError\u001b[0m                                Traceback (most recent call last)",
      "\u001b[0;32m<ipython-input-6-8e29cc1821a0>\u001b[0m in \u001b[0;36m<module>\u001b[0;34m()\u001b[0m\n\u001b[1;32m      1\u001b[0m \u001b[0;32mfrom\u001b[0m \u001b[0mgoogle\u001b[0m\u001b[0;34m.\u001b[0m\u001b[0mcolab\u001b[0m \u001b[0;32mimport\u001b[0m \u001b[0mdrive\u001b[0m\u001b[0;34m\u001b[0m\u001b[0;34m\u001b[0m\u001b[0m\n\u001b[0;32m----> 2\u001b[0;31m \u001b[0mdrive\u001b[0m\u001b[0;34m.\u001b[0m\u001b[0mmount\u001b[0m\u001b[0;34m(\u001b[0m\u001b[0;34m'content/drive'\u001b[0m\u001b[0;34m)\u001b[0m\u001b[0;34m\u001b[0m\u001b[0;34m\u001b[0m\u001b[0m\n\u001b[0m",
      "\u001b[0;32m/usr/local/lib/python3.6/dist-packages/google/colab/drive.py\u001b[0m in \u001b[0;36mmount\u001b[0;34m(mountpoint, force_remount)\u001b[0m\n\u001b[1;32m    100\u001b[0m     \u001b[0mnormed\u001b[0m \u001b[0;34m=\u001b[0m \u001b[0m_os\u001b[0m\u001b[0;34m.\u001b[0m\u001b[0mpath\u001b[0m\u001b[0;34m.\u001b[0m\u001b[0mnormpath\u001b[0m\u001b[0;34m(\u001b[0m\u001b[0mmountpoint\u001b[0m\u001b[0;34m)\u001b[0m\u001b[0;34m\u001b[0m\u001b[0;34m\u001b[0m\u001b[0m\n\u001b[1;32m    101\u001b[0m     \u001b[0;32mif\u001b[0m \u001b[0;34m'/'\u001b[0m \u001b[0;32min\u001b[0m \u001b[0mnormed\u001b[0m \u001b[0;32mand\u001b[0m \u001b[0;32mnot\u001b[0m \u001b[0m_os\u001b[0m\u001b[0;34m.\u001b[0m\u001b[0mpath\u001b[0m\u001b[0;34m.\u001b[0m\u001b[0mexists\u001b[0m\u001b[0;34m(\u001b[0m\u001b[0m_os\u001b[0m\u001b[0;34m.\u001b[0m\u001b[0mpath\u001b[0m\u001b[0;34m.\u001b[0m\u001b[0mdirname\u001b[0m\u001b[0;34m(\u001b[0m\u001b[0mnormed\u001b[0m\u001b[0;34m)\u001b[0m\u001b[0;34m)\u001b[0m\u001b[0;34m:\u001b[0m\u001b[0;34m\u001b[0m\u001b[0;34m\u001b[0m\u001b[0m\n\u001b[0;32m--> 102\u001b[0;31m       \u001b[0;32mraise\u001b[0m \u001b[0mValueError\u001b[0m\u001b[0;34m(\u001b[0m\u001b[0;34m'Mountpoint must be in a directory that exists'\u001b[0m\u001b[0;34m)\u001b[0m\u001b[0;34m\u001b[0m\u001b[0;34m\u001b[0m\u001b[0m\n\u001b[0m\u001b[1;32m    103\u001b[0m   \u001b[0;32mexcept\u001b[0m\u001b[0;34m:\u001b[0m\u001b[0;34m\u001b[0m\u001b[0;34m\u001b[0m\u001b[0m\n\u001b[1;32m    104\u001b[0m     \u001b[0md\u001b[0m\u001b[0;34m.\u001b[0m\u001b[0mterminate\u001b[0m\u001b[0;34m(\u001b[0m\u001b[0mforce\u001b[0m\u001b[0;34m=\u001b[0m\u001b[0;32mTrue\u001b[0m\u001b[0;34m)\u001b[0m\u001b[0;34m\u001b[0m\u001b[0;34m\u001b[0m\u001b[0m\n",
      "\u001b[0;31mValueError\u001b[0m: Mountpoint must be in a directory that exists"
     ]
    }
   ],
   "source": [
    "from google.colab import drive\n",
    "drive.mount('content/drive')\n"
   ]
  },
  {
   "cell_type": "code",
   "execution_count": 8,
   "metadata": {
    "colab": {
     "base_uri": "https://localhost:8080/",
     "height": 34
    },
    "colab_type": "code",
    "executionInfo": {
     "elapsed": 3394,
     "status": "ok",
     "timestamp": 1549476755553,
     "user": {
      "displayName": "ana claudia",
      "photoUrl": "https://lh6.googleusercontent.com/-u8DaEbRmVlw/AAAAAAAAAAI/AAAAAAAACJw/7ijFkdrV2yk/s64/photo.jpg",
      "userId": "15383402369695337861"
     },
     "user_tz": 180
    },
    "id": "-zRlB3ACAtvH",
    "outputId": "93fbf369-50e8-4fb3-8100-c7fa51655583"
   },
   "outputs": [
    {
     "name": "stdout",
     "output_type": "stream",
     "text": [
      "Mounted at /content/drive\n"
     ]
    }
   ],
   "source": [
    " drive.mount(\"/content/drive\", force_remount=True)"
   ]
  },
  {
   "cell_type": "markdown",
   "metadata": {
    "colab_type": "text",
    "id": "qtqd3zgp-v71"
   },
   "source": [
    "#"
   ]
  },
  {
   "cell_type": "code",
   "execution_count": 0,
   "metadata": {
    "colab": {
     "base_uri": "https://localhost:8080/",
     "height": 34
    },
    "colab_type": "code",
    "executionInfo": {
     "elapsed": 2872,
     "status": "ok",
     "timestamp": 1549469554045,
     "user": {
      "displayName": "ana claudia",
      "photoUrl": "https://lh6.googleusercontent.com/-u8DaEbRmVlw/AAAAAAAAAAI/AAAAAAAACJw/7ijFkdrV2yk/s64/photo.jpg",
      "userId": "15383402369695337861"
     },
     "user_tz": 180
    },
    "id": "th5jI89z8Rvg",
    "outputId": "1f5bbaca-6d75-43c6-99cc-39592491f6e2"
   },
   "outputs": [
    {
     "name": "stdout",
     "output_type": "stream",
     "text": [
      "Mounted at /content/drive\n"
     ]
    }
   ],
   "source": [
    "drive.umount(\"/content/drive\", force_remount=True)"
   ]
  },
  {
   "cell_type": "code",
   "execution_count": 0,
   "metadata": {
    "colab": {},
    "colab_type": "code",
    "id": "QAx3cihuuF7A"
   },
   "outputs": [],
   "source": [
    "from model_low_sparse import Model\n"
   ]
  },
  {
   "cell_type": "markdown",
   "metadata": {
    "colab_type": "text",
    "id": "iKmsUFqS-vdl"
   },
   "source": [
    "# Metodo utilizado para a criacao dos dados binarios randomicos"
   ]
  },
  {
   "cell_type": "code",
   "execution_count": 0,
   "metadata": {
    "colab": {},
    "colab_type": "code",
    "id": "usycoljkmPHa"
   },
   "outputs": [],
   "source": [
    "def buildRandomBoolDataSet(Nsamples=2000,Dinput=1000,seed=0):\n",
    "    np.random.seed(seed)\n",
    "    features, labels = (np.random.randint(2,size=(Nsamples,Dinput)), np.eye(Nsamples))\n",
    "    features = (np.float32(features)*2-1)/np.sqrt(Dinput)\n",
    "    labels = np.float32(labels)\n",
    "    dataset = tf.data.Dataset.from_tensor_slices((features,labels))\n",
    "    return dataset\n",
    "  \n"
   ]
  },
  {
   "cell_type": "code",
   "execution_count": 19,
   "metadata": {
    "colab": {
     "base_uri": "https://localhost:8080/",
     "height": 71
    },
    "colab_type": "code",
    "executionInfo": {
     "elapsed": 446,
     "status": "ok",
     "timestamp": 1549477662028,
     "user": {
      "displayName": "ana claudia",
      "photoUrl": "https://lh6.googleusercontent.com/-u8DaEbRmVlw/AAAAAAAAAAI/AAAAAAAACJw/7ijFkdrV2yk/s64/photo.jpg",
      "userId": "15383402369695337861"
     },
     "user_tz": 180
    },
    "id": "Hn_9Sfe3mqm6",
    "outputId": "25cec212-10f3-4892-cda0-7b8df17e3f93"
   },
   "outputs": [
    {
     "name": "stderr",
     "output_type": "stream",
     "text": [
      "/usr/local/lib/python3.6/dist-packages/tensorflow/python/client/session.py:1702: UserWarning: An interactive session is already active. This can cause out-of-memory errors in some cases. You must explicitly call `InteractiveSession.close()` to release resources held by the other session(s).\n",
      "  warnings.warn('An interactive session is already active. This can '\n"
     ]
    }
   ],
   "source": [
    "sess = tf.InteractiveSession()"
   ]
  },
  {
   "cell_type": "code",
   "execution_count": 23,
   "metadata": {
    "colab": {
     "base_uri": "https://localhost:8080/",
     "height": 350
    },
    "colab_type": "code",
    "executionInfo": {
     "elapsed": 2050,
     "status": "error",
     "timestamp": 1549477986152,
     "user": {
      "displayName": "ana claudia",
      "photoUrl": "https://lh6.googleusercontent.com/-u8DaEbRmVlw/AAAAAAAAAAI/AAAAAAAACJw/7ijFkdrV2yk/s64/photo.jpg",
      "userId": "15383402369695337861"
     },
     "user_tz": 180
    },
    "id": "q1ZRysztmj96",
    "outputId": "430f7dbe-0215-4ffc-f7b6-be468b2cd4d0"
   },
   "outputs": [
    {
     "ename": "AttributeError",
     "evalue": "ignored",
     "output_type": "error",
     "traceback": [
      "\u001b[0;31m---------------------------------------------------------------------------\u001b[0m",
      "\u001b[0;31mAttributeError\u001b[0m                            Traceback (most recent call last)",
      "\u001b[0;32m<ipython-input-23-7519c3048a9b>\u001b[0m in \u001b[0;36m<module>\u001b[0;34m()\u001b[0m\n\u001b[1;32m     26\u001b[0m \u001b[0mx\u001b[0m \u001b[0;34m=\u001b[0m \u001b[0mmyFeatures\u001b[0m\u001b[0;34m\u001b[0m\u001b[0;34m\u001b[0m\u001b[0m\n\u001b[1;32m     27\u001b[0m \u001b[0my_\u001b[0m \u001b[0;34m=\u001b[0m \u001b[0mmyLabels\u001b[0m\u001b[0;34m\u001b[0m\u001b[0;34m\u001b[0m\u001b[0m\n\u001b[0;32m---> 28\u001b[0;31m \u001b[0mmodel\u001b[0m \u001b[0;34m=\u001b[0m \u001b[0mModel\u001b[0m\u001b[0;34m(\u001b[0m\u001b[0mx\u001b[0m\u001b[0;34m,\u001b[0m \u001b[0my_\u001b[0m\u001b[0;34m,\u001b[0m \u001b[0msparseness\u001b[0m\u001b[0;34m,\u001b[0m \u001b[0mlearning_rate\u001b[0m\u001b[0;34m,\u001b[0m \u001b[0msparse_fact\u001b[0m\u001b[0;34m=\u001b[0m\u001b[0;36m1.0\u001b[0m\u001b[0;34m,\u001b[0m\u001b[0mseed\u001b[0m\u001b[0;34m=\u001b[0m\u001b[0mmodel_seed\u001b[0m\u001b[0;34m)\u001b[0m \u001b[0;31m# simple 2-layer network\u001b[0m\u001b[0;34m\u001b[0m\u001b[0;34m\u001b[0m\u001b[0m\n\u001b[0m\u001b[1;32m     29\u001b[0m \u001b[0mmodel\u001b[0m\u001b[0;34m.\u001b[0m\u001b[0mset_vanilla_loss\u001b[0m\u001b[0;34m(\u001b[0m\u001b[0;34m)\u001b[0m\u001b[0;34m\u001b[0m\u001b[0;34m\u001b[0m\u001b[0m\n\u001b[1;32m     30\u001b[0m \u001b[0;31m# initialize variables\u001b[0m\u001b[0;34m\u001b[0m\u001b[0;34m\u001b[0m\u001b[0;34m\u001b[0m\u001b[0m\n",
      "\u001b[0;32m/content/model_low_sparse.py\u001b[0m in \u001b[0;36m__init__\u001b[0;34m(self, x, y_, sparseness, learning_rate, sparse_fact, seed)\u001b[0m\n\u001b[1;32m     24\u001b[0m         \u001b[0mself\u001b[0m\u001b[0;34m.\u001b[0m\u001b[0mlearning_rate\u001b[0m \u001b[0;34m=\u001b[0m \u001b[0mlearning_rate\u001b[0m\u001b[0;34m\u001b[0m\u001b[0;34m\u001b[0m\u001b[0m\n\u001b[1;32m     25\u001b[0m \u001b[0;34m\u001b[0m\u001b[0m\n\u001b[0;32m---> 26\u001b[0;31m         \u001b[0mtf\u001b[0m\u001b[0;34m.\u001b[0m\u001b[0mset_random_seed\u001b[0m\u001b[0;34m(\u001b[0m\u001b[0mself\u001b[0m\u001b[0;34m.\u001b[0m\u001b[0mseed\u001b[0m\u001b[0;34m)\u001b[0m\u001b[0;34m\u001b[0m\u001b[0;34m\u001b[0m\u001b[0m\n\u001b[0m\u001b[1;32m     27\u001b[0m \u001b[0;34m\u001b[0m\u001b[0m\n\u001b[1;32m     28\u001b[0m         \u001b[0;31m# simple 2-layer network\u001b[0m\u001b[0;34m\u001b[0m\u001b[0;34m\u001b[0m\u001b[0;34m\u001b[0m\u001b[0m\n",
      "\u001b[0;31mAttributeError\u001b[0m: 'Model' object has no attribute 'seed'"
     ]
    }
   ],
   "source": [
    "    \n",
    "#Nsamples = 1000\n",
    "#list_samples = np.linspace(1,1000,10,dtype=int)\n",
    "#input = 100\n",
    "#learning_rate = 0.1\n",
    "#model_seed = 0\n",
    "#graph_samples = np.zeros(len(list_samples))\n",
    "#nsteps = 1000\n",
    "#sparseness = 0.4\n",
    "\n",
    "\n",
    "\n",
    "\n",
    "input_dim = 100\n",
    "#num_samples = 100\n",
    "#sparseness = 0.9\n",
    "learning_rate = 0.1\n",
    "model_seed = 0\n",
    "data_seed = 0\n",
    "nsteps = 1000\n",
    "max_count = 100\n",
    "\n",
    "\n",
    "sparse = np.linspace(0.0,0.9,10)\n",
    "\n",
    "num_samplesV = np.power(10,np.arange(0.2,4.1,0.2))\n",
    "data_seedV = np.arange(20)\n",
    "\n",
    "acc = np.ones((len(sparse),len(num_samplesV),len(data_seedV))) * np.nan\n",
    "\n",
    "for zz,sparseness in enumerate(sparse):\n",
    "    for ii,num_samples in enumerate(num_samplesV):\n",
    "        for jj,data_seed in enumerate(data_seedV):\n",
    "                \n",
    "                myDataSet = buildRandomBoolDataSet(num_samples.astype(np.int64),input_dim, data_seed).batch(num_samples)                \n",
    "                myIter = myDataSet.make_initializable_iterator()\n",
    "                myFeatures, myLabels = myIter.get_next()               \n",
    "                x = myFeatures\n",
    "                y_ = myLabels              \n",
    "                #model = Model(x, y_, spars, 0.1) # simple 2-layer network\n",
    "                model = Model(x, y_, sparseness, learning_rate, seed=data_seed) # simple 2-layer network\n",
    "                model.set_vanilla_loss()              \n",
    "                # initialize variables\n",
    "                sess.run(tf.global_variables_initializer())    \n",
    "                sess.run(myIter.initializer)                \n",
    "                count  = 1            \n",
    "                for ss in np.arange(1,nsteps+1):\n",
    "                    sess.run(myIter.initializer)\n",
    "                    model.train_step.run()\n",
    "                    sess.run(myIter.initializer)\n",
    "                    #acc[ss] = model.accuracy.eval()\n",
    "                    \n",
    "                    acc[zz,ii,jj] = model.accuracy.eval()"
   ]
  },
  {
   "cell_type": "markdown",
   "metadata": {
    "colab": {},
    "colab_type": "code",
    "id": "d3A58wv8uSqc"
   },
   "source": [
    "Gerando o grafico esparsialidade versus num Sample"
   ]
  },
  {
   "cell_type": "code",
   "execution_count": 0,
   "metadata": {
    "colab": {
     "base_uri": "https://localhost:8080/",
     "height": 34
    },
    "colab_type": "code",
    "executionInfo": {
     "elapsed": 586,
     "status": "ok",
     "timestamp": 1549438557237,
     "user": {
      "displayName": "ana claudia",
      "photoUrl": "https://lh6.googleusercontent.com/-u8DaEbRmVlw/AAAAAAAAAAI/AAAAAAAACJw/7ijFkdrV2yk/s64/photo.jpg",
      "userId": "15383402369695337861"
     },
     "user_tz": 180
    },
    "id": "ewzVte-Su_Jw",
    "outputId": "eee88566-b897-4b2a-9c3e-7c9a98e92fa5"
   },
   "outputs": [
    {
     "name": "stdout",
     "output_type": "stream",
     "text": [
      "[0.002      0.048      0.27700001 ... 1.         1.         1.        ]\n"
     ]
    }
   ],
   "source": [
    "ax = plt.subplot(111)\n",
    "\n",
    "for zz,sparseness in enumerate(sparse):  \n",
    "    plt.semilogx(num_samplesV,np.median(acc[zz,:,:],axis=1), label=\"spars=%1.1f\"%(sparseness,))\n",
    "\n",
    "plt.xlabel('NSamples ')\n",
    "plt.ylabel('Accuracy')\n",
    "plt.grid(True)\n",
    "leg = plt.legend(bbox_to_anchor=(1.1, 1.05))\n",
    "leg.get_frame().set_alpha(0.5)\n",
    "plt.show()"
   ]
  }
 ],
 "metadata": {
  "accelerator": "TPU",
  "colab": {
   "name": "experimento_tpu.ipynb",
   "provenance": [],
   "toc_visible": true,
   "version": "0.3.2"
  },
  "kernelspec": {
   "display_name": "Python 3",
   "language": "python",
   "name": "python3"
  },
  "language_info": {
   "codemirror_mode": {
    "name": "ipython",
    "version": 3
   },
   "file_extension": ".py",
   "mimetype": "text/x-python",
   "name": "python",
   "nbconvert_exporter": "python",
   "pygments_lexer": "ipython3",
   "version": "3.6.5"
  }
 },
 "nbformat": 4,
 "nbformat_minor": 1
}
